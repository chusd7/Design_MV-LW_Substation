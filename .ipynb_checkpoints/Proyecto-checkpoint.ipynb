{
 "cells": [
  {
   "cell_type": "markdown",
   "metadata": {},
   "source": [
    "---\n",
    "### Universidad de Costa Rica\n",
    "#### IE0315 - Máquinas Eléctricas I\n",
    "\n",
    "Primer ciclo del 2023\n",
    "\n",
    "---\n",
    "\n",
    "[comment]: <> (Modificar esta sección con datos personales)\n",
    "\n",
    "* Estudiante: **Marlon Jesús Jiménez Acosta**\n",
    "* Carné: **B73881**\n",
    "* Grupo: **1**\n",
    "\n",
    "# `Proyecto Máquinas Eléctricas I` - *Diseño subestación Zion S.A*\n",
    "\n",
    "\n"
   ]
  },
  {
   "cell_type": "markdown",
   "metadata": {},
   "source": [
    "---\n",
    "## Antecedentes e información disponible:\n",
    "La junta directiva de la empresa Zion S.A. localizada en el parque industrial New Babilon, tiene\n",
    "interés de modernizar su subestación (conjunto de equipos de transformación de potencia,\n",
    "transformadores de medición, protección y seccionamiento) que acopla la red de distribución\n",
    "interna de la empresa en baja tensión, a la red primaria de distribución del parque industrial de\n",
    "media tensión, propiedad de la compañía eléctrica.\n",
    "- Se le proporciona una curva con la potencia trifásica (Curva demanda.xlsx) medida de la\n",
    "empresa. Esta información se obtuvo de la facturación de la empresa distribuidora que\n",
    "provee el servicio eléctrico en media tensión a 34.5/19.92 kV.\n",
    "- Adicionalmente, se le proporciona un catálogo (Catalogo componentes y precios.xlsx) con\n",
    "los componentes más importantes para construir la subestación. Con esta información,\n",
    "puede brindar un costo estimado para materiales del proyecto. Considere un costo de\n",
    "accesorios de un 15% del valor total de los componentes.\n",
    "- Una vez seleccionados los transformadores de potencia, debe realizar los cálculos eléctricos\n",
    "a partir de los parámetros en las tablas VIII y IX del artículo\n",
    "(https://ieeexplore.ieee.org/abstract/document/8596604) y especificar su conexión.\n",
    "Considere que la tensión secundaria del transformador se puede ajustar a su necesidad de\n",
    "208/120 V.\n"
   ]
  },
  {
   "cell_type": "code",
   "execution_count": 1,
   "metadata": {},
   "outputs": [],
   "source": [
    "import pandas as pd\n",
    "import matplotlib.pyplot as plt\n",
    "from fitter import Fitter\n",
    "from scipy import stats\n",
    "import numpy as np\n",
    "from scipy.stats import expon, skew, kurtosis\n",
    "import matplotlib.pyplot as plt\n",
    "import tikzplotlib\n",
    "\n",
    "# Importar CSV en un DataFrame\n",
    "zion_curve = pd.read_csv('zion.csv', decimal=',', sep=' ')\n"
   ]
  },
  {
   "cell_type": "code",
   "execution_count": 2,
   "metadata": {},
   "outputs": [
    {
     "name": "stdout",
     "output_type": "stream",
     "text": [
      "Index(['Date', ';time', ';P', '(kW);Q', '(kVAr);S(KVA);fp;I(KA);Día;'], dtype='object')\n",
      "                                                Date  ;time  ;P  (kW);Q  \\\n",
      "0  1/12/2016;00:00:00;509,76;60,63441264;513,3534...    NaN NaN     NaN   \n",
      "1  1/12/2016;01:00:00;488,56;85,00148143;495,8993...    NaN NaN     NaN   \n",
      "2  1/12/2016;02:00:00;738,26;126,6589174;749,0462...    NaN NaN     NaN   \n",
      "3  1/12/2016;03:00:00;821,36;36,75991156;822,1821...    NaN NaN     NaN   \n",
      "4  1/12/2016;04:00:00;804,52;128,9352413;814,7863...    NaN NaN     NaN   \n",
      "\n",
      "   (kVAr);S(KVA);fp;I(KA);Día;  \n",
      "0                          NaN  \n",
      "1                          NaN  \n",
      "2                          NaN  \n",
      "3                          NaN  \n",
      "4                          NaN  \n"
     ]
    }
   ],
   "source": [
    "print(zion_curve.columns)\n",
    "print(zion_curve.head())\n",
    "\n"
   ]
  },
  {
   "cell_type": "code",
   "execution_count": null,
   "metadata": {
    "scrolled": true
   },
   "outputs": [],
   "source": [
    "\n",
    "\n",
    "# Primer parámetro\n",
    "# Se realiza el histograma del primer parámetro musical y se\n",
    "# Configuran Títulos,eje y y eje x.\n",
    "plt.hist(zion_curve[';S(KVA);'], bins=20) #, density=True\n",
    "plt.title('Densidad de probabilidad de potencia aparente')\n",
    "plt.xlabel('Potencia aparente')\n",
    "plt.ylabel('Frecuencia Relativa')\n",
    "# Exportar la figura en formato SVG\n",
    "plt.savefig('pa.svg', transparent=True)\n",
    "# Se imprime en pantalla la imagen\n",
    "plt.show()\n",
    "# Se usa fitter para recorrer las distribuciones y aplicarlas al histograma\n",
    "# p1 = Fitter(songs['S(KVA)'].dropna())\n",
    "# p1.fit()\n",
    "# p1.summary()\n",
    "# summary_1 = p1.summary()\n",
    "# with open('summary_table_danceability.tex', 'w') as f:\n",
    "#     f.write(summary_1.to_latex(index=False))\n",
    "# # La función get_best() permite encontrar el mejor ajuste e imprimir sus\n",
    "# # Parámetros.\n",
    "# mejor_ajuste1 = p1.get_best()\n",
    "# print(f\"El mejor ajuste de danceability es: {mejor_ajuste1}\")\n"
   ]
  },
  {
   "cell_type": "code",
   "execution_count": null,
   "metadata": {},
   "outputs": [],
   "source": [
    "import numpy as np\n",
    "import matplotlib.pyplot as plt\n",
    "from scipy.stats import pearson3\n",
    "import scipy.stats as stats\n",
    "import numpy as np\n",
    "import matplotlib.pyplot as plt\n",
    "\n",
    "# Función para graficar el histograma y la curva de ajuste\n",
    "def plot_histogram_with_fit(data, model_name, params,txt,nombre_archivo):\n",
    "    # Obtener el modelo de ajuste a partir del nombre\n",
    "    model = getattr(stats, model_name)\n",
    "    # Generar el rango de valores x\n",
    "    x = np.linspace(min(data), max(data), 100)\n",
    "\n",
    "    # Calcular los valores y de la curva de ajuste\n",
    "    y = model.pdf(x, **params)\n",
    "    # Graficar el histograma\n",
    "    plt.hist(data, bins=20, density=True, alpha=0.5, label='Histograma')\n",
    "    # Graficar la curva de ajuste\n",
    "    plt.plot(x, y, 'r-', label='Curva de Ajuste: ' + model_name )\n",
    "    # Configurar títulos y etiquetas de los ejes\n",
    "    plt.title('Histograma y Curva de Ajuste de ' + txt)\n",
    "    plt.xlabel('Valor')\n",
    "    plt.ylabel('Densidad de probabilidad')\n",
    "    # Mostrar la leyenda\n",
    "    plt.legend()\n",
    "    plt.savefig(nombre_archivo + '.' + 'svg', transparent = True)\n",
    "    # Mostrar la gráfica\n",
    "    plt.show()\n",
    " \n",
    "params_1 = {'skew': -0.6735292939005462,\n",
    "            'loc': 0.619782093452366,\n",
    "            'scale': 0.16641534614328263}\n",
    "model_1 = 'pearson3'\n",
    "data_1 = songs['danceability']\n",
    "txt_1 = 'danzabilidad'\n",
    "\n",
    "\n",
    "plot_histogram_with_fit(data_10, model_10, params_10, txt_10, 'resp10')\n"
   ]
  },
  {
   "cell_type": "markdown",
   "metadata": {},
   "source": [
    "---\n",
    "**Universidad de Costa Rica** | Facultad de Ingeniería | Escuela de Ingeniería Eléctrica\n",
    "\n",
    "&copy; 2023\n",
    "\n",
    "---"
   ]
  }
 ],
 "metadata": {
  "kernelspec": {
   "display_name": "Python 3 (ipykernel)",
   "language": "python",
   "name": "python3"
  },
  "language_info": {
   "codemirror_mode": {
    "name": "ipython",
    "version": 3
   },
   "file_extension": ".py",
   "mimetype": "text/x-python",
   "name": "python",
   "nbconvert_exporter": "python",
   "pygments_lexer": "ipython3",
   "version": "3.10.9"
  }
 },
 "nbformat": 4,
 "nbformat_minor": 2
}
